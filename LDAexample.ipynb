{
 "cells": [
  {
   "cell_type": "markdown",
   "id": "9a0d5383",
   "metadata": {},
   "source": [
    "Create virtual environment\n",
    "python -m venv myenv\n",
    "\n",
    "Activate\n",
    "Windows: myenv\\Scripts\\activate\n",
    "MacOS: source myenv/bin/activate\n",
    "\n",
    "Install packages:\n",
    "pip install -r requirements.txt"
   ]
  },
  {
   "cell_type": "code",
   "execution_count": null,
   "id": "301b58ec",
   "metadata": {},
   "outputs": [
    {
     "ename": "",
     "evalue": "",
     "output_type": "error",
     "traceback": [
      "\u001b[1;31mRunning cells with 'myenv (Python 3.13.2)' requires the ipykernel package.\n",
      "\u001b[1;31mRun the following command to install 'ipykernel' into the Python environment. \n",
      "\u001b[1;31mCommand: '/Users/alyssaw/github-classroom/Wellesley-CS315/minilecture-pyLDAvis-example/myenv/bin/python -m pip install ipykernel -U --force-reinstall'"
     ]
    }
   ],
   "source": [
    "import nltk\n",
    "from nltk.corpus import stopwords\n",
    "from nltk.tokenize import word_tokenize\n",
    "import string\n",
    "\n",
    "nltk.download('punkt')\n",
    "nltk.download('stopwords')\n",
    "\n",
    "# Your transcripts\n",
    "docs = [\n",
    "    \"this Sephora kid's getting ready for school video is going viral because it's showing how much the morning routine has changed over the years I mean she cannot be older than 8 years old so the fact that she has this entire makeup routine is actually crazy but the ending might be the most shocking part morning it's 5:45 let's go get ready for the first day of school I want to curl my eyelashes all complete let's make some coffee\",\n",
    "    \"hey guys get ready with me for bed so let's go to the bathroom and brush my teeth okay so I just finished brushing my teeth let's go to get my pajamas so I'm going to wear these Stitch little pants I changed it into my little Stitch pants okay I got Stitch shirts so now let's get in bed lights out good night\",\n",
    "    \"AA just ran to her friend's house to get her hair for done for dance when she gets back let's get ready for dance here's her outfit okay so first is this pup now just a little bit of makeup my favorite mascara why is it curved like that always F in my nostrils look at that difference I already have too much mascara on now this YSL lipstick but I'm going to use that as blush this is vibrant that's why I always use just oh that's a little too much a little it's a party doing makeup looks good looks cute and then just this very very subtle lip balm all right so that's your whole look you're done and she's ready for dance such a cute\"\n",
    "]\n",
    "\n",
    "# Tokenize and clean\n",
    "stop_words = set(stopwords.words('english'))\n",
    "cleaned_docs = []\n",
    "\n",
    "for doc in docs:\n",
    "    tokens = word_tokenize(doc.lower())  # lowercase and tokenize\n",
    "    words = [word for word in tokens if word.isalpha() and word not in stop_words and len(word) > 2]\n",
    "    cleaned_docs.append(words)\n",
    "\n",
    "print(cleaned_docs)  # Take a peek at the cleaned result"
   ]
  },
  {
   "cell_type": "code",
   "execution_count": null,
   "id": "2e175930",
   "metadata": {},
   "outputs": [],
   "source": [
    "from gensim import corpora\n",
    "\n",
    "dictionary = corpora.Dictionary(cleaned_docs)\n",
    "corpus = [dictionary.doc2bow(text) for text in cleaned_docs]"
   ]
  },
  {
   "cell_type": "markdown",
   "id": "deb538a6",
   "metadata": {},
   "source": [
    "## Generate the LDA Model"
   ]
  },
  {
   "cell_type": "code",
   "execution_count": 3,
   "id": "c79f40c6",
   "metadata": {},
   "outputs": [],
   "source": [
    "from gensim.models.ldamodel import LdaModel\n",
    "\n",
    "lda_model = LdaModel(\n",
    "    corpus=corpus,\n",
    "    id2word=dictionary,\n",
    "    num_topics=2,  # You can try more topics\n",
    "    random_state=42,\n",
    "    passes=20\n",
    ")"
   ]
  },
  {
   "cell_type": "markdown",
   "id": "800e188f",
   "metadata": {},
   "source": [
    "## Display visualization"
   ]
  },
  {
   "cell_type": "code",
   "execution_count": 5,
   "id": "fcfb7892",
   "metadata": {},
   "outputs": [
    {
     "data": {
      "text/html": [
       "\n",
       "<link rel=\"stylesheet\" type=\"text/css\" href=\"https://cdn.jsdelivr.net/gh/bmabey/pyLDAvis@3.4.0/pyLDAvis/js/ldavis.v1.0.0.css\">\n",
       "\n",
       "\n",
       "<div id=\"ldavis_el2348820853428730722893731381\" style=\"background-color:white;\"></div>\n",
       "<script type=\"text/javascript\">\n",
       "\n",
       "var ldavis_el2348820853428730722893731381_data = {\"mdsDat\": {\"x\": [0.06738529855963639, -0.06738529855963639], \"y\": [0.0, 0.0], \"topics\": [1, 2], \"cluster\": [1, 1], \"Freq\": [68.49656200131912, 31.503437998680887]}, \"tinfo\": {\"Term\": [\"years\", \"school\", \"routine\", \"morning\", \"sephora\", \"crazy\", \"ending\", \"older\", \"want\", \"showing\", \"kid\", \"curl\", \"viral\", \"actually\", \"video\", \"might\", \"shocking\", \"fact\", \"old\", \"part\", \"complete\", \"make\", \"getting\", \"coffee\", \"day\", \"entire\", \"mean\", \"eyelashes\", \"little\", \"ready\", \"little\", \"dance\", \"okay\", \"stitch\", \"done\", \"look\", \"mascara\", \"looks\", \"always\", \"use\", \"cute\", \"good\", \"bed\", \"pants\", \"teeth\", \"get\", \"favorite\", \"pup\", \"outfit\", \"difference\", \"whole\", \"nostrils\", \"blush\", \"subtle\", \"right\", \"vibrant\", \"ysl\", \"bit\", \"lip\", \"gets\", \"let\", \"ready\", \"much\", \"makeup\", \"going\", \"years\", \"school\", \"routine\", \"morning\", \"sephora\", \"crazy\", \"ending\", \"older\", \"want\", \"showing\", \"kid\", \"curl\", \"viral\", \"actually\", \"video\", \"might\", \"shocking\", \"fact\", \"old\", \"part\", \"complete\", \"make\", \"getting\", \"coffee\", \"day\", \"entire\", \"mean\", \"eyelashes\", \"changed\", \"first\", \"ready\", \"let\", \"going\", \"makeup\", \"much\"], \"Freq\": [1.0, 1.0, 1.0, 1.0, 1.0, 1.0, 1.0, 1.0, 1.0, 1.0, 1.0, 1.0, 1.0, 1.0, 1.0, 1.0, 1.0, 1.0, 1.0, 1.0, 1.0, 1.0, 1.0, 1.0, 1.0, 1.0, 1.0, 1.0, 3.0, 3.0, 3.712633422677514, 2.3624770051432504, 2.3622048667854485, 2.3620576020411947, 1.6873766636046137, 1.6873535835160407, 1.6873528945581728, 1.687351688881904, 1.6873503109661683, 1.6873404933165514, 1.68732413056719, 1.687225609592087, 1.6870358016994933, 1.687005315313841, 1.6869756901255233, 3.7174406262004593, 1.0122885510681314, 1.012280972531585, 1.0122739107134398, 1.0122737384739726, 1.012267537853162, 1.0122667627755606, 1.0122665905360937, 1.0122652987400915, 1.01226254290862, 1.01226254290862, 1.0122623706691531, 1.0122617678310188, 1.012260217675816, 1.0122595287179483, 3.035680990150621, 2.3606736579241447, 1.6882421669261043, 1.6882318325580865, 1.6870552647592603, 1.235310626651507, 1.2352809992575402, 1.2352690373952702, 1.2352657894724022, 0.741129893820053, 0.7411264082442923, 0.7411185656988305, 0.7411157138641171, 0.7411156346464862, 0.7411155554288552, 0.7411151593407006, 0.7411118322002017, 0.7411111984591543, 0.7411091388007501, 0.7411090595831192, 0.7411087427125955, 0.7411080297539172, 0.7411066038365605, 0.7411043065252636, 0.7411020092139666, 0.7411019299963357, 0.7411009001671337, 0.7411009001671337, 0.7410997911203008, 0.741099553467408, 0.7410923446629936, 0.7410822048062349, 0.7410814918475566, 0.7440552424949334, 0.7423833543942144, 1.2374979838766693, 1.2376438235352063, 0.7420777327740973, 0.7412164786906565, 0.7412088737980875], \"Total\": [1.0, 1.0, 1.0, 1.0, 1.0, 1.0, 1.0, 1.0, 1.0, 1.0, 1.0, 1.0, 1.0, 1.0, 1.0, 1.0, 1.0, 1.0, 1.0, 1.0, 1.0, 1.0, 1.0, 1.0, 1.0, 1.0, 1.0, 1.0, 3.0, 3.0, 3.9604894274961526, 2.610144769066398, 2.6100715461798543, 2.6100320768268848, 1.9349663783568904, 1.9349602112325204, 1.934959938167215, 1.9349595642760709, 1.9349591765807217, 1.9349566073443345, 1.9349521866528354, 1.9349258923527304, 1.934874952967152, 1.9348668257578288, 1.9348587477651233, 4.4560304859024615, 1.2597914829057273, 1.259789449603346, 1.2597875567356185, 1.2597875033225978, 1.25978581810675, 1.2597856965746037, 1.2597856431615833, 1.2597852623683368, 1.2597844671732308, 1.2597844671732308, 1.2597844533690257, 1.2597843456410847, 1.2597839243371225, 1.259783750293856, 4.273324813685828, 3.598171641800814, 2.429451040724192, 2.429448311248743, 2.4291329975333573, 1.5733625955778896, 1.5733733583389256, 1.573377866875684, 1.57337892493949, 1.0790770550307882, 1.0790784352199694, 1.0790812284615925, 1.0790822735448191, 1.0790823235067886, 1.0790823949986912, 1.0790824079792705, 1.0790837097744463, 1.079083958760667, 1.0790845903439341, 1.0790846403059036, 1.0790847540340471, 1.0790850529822373, 1.079085564758884, 1.0790863677579923, 1.0790873214666343, 1.0790872853088702, 1.0790876333954038, 1.0790876549253372, 1.0790880745037736, 1.0790881167400146, 1.079090897824684, 1.0790945586552159, 1.0790947284238057, 1.7532023179251215, 1.7538144973958028, 3.598171641800814, 4.273324813685828, 2.4291329975333573, 2.429448311248743, 2.429451040724192], \"Category\": [\"Default\", \"Default\", \"Default\", \"Default\", \"Default\", \"Default\", \"Default\", \"Default\", \"Default\", \"Default\", \"Default\", \"Default\", \"Default\", \"Default\", \"Default\", \"Default\", \"Default\", \"Default\", \"Default\", \"Default\", \"Default\", \"Default\", \"Default\", \"Default\", \"Default\", \"Default\", \"Default\", \"Default\", \"Default\", \"Default\", \"Topic1\", \"Topic1\", \"Topic1\", \"Topic1\", \"Topic1\", \"Topic1\", \"Topic1\", \"Topic1\", \"Topic1\", \"Topic1\", \"Topic1\", \"Topic1\", \"Topic1\", \"Topic1\", \"Topic1\", \"Topic1\", \"Topic1\", \"Topic1\", \"Topic1\", \"Topic1\", \"Topic1\", \"Topic1\", \"Topic1\", \"Topic1\", \"Topic1\", \"Topic1\", \"Topic1\", \"Topic1\", \"Topic1\", \"Topic1\", \"Topic1\", \"Topic1\", \"Topic1\", \"Topic1\", \"Topic1\", \"Topic2\", \"Topic2\", \"Topic2\", \"Topic2\", \"Topic2\", \"Topic2\", \"Topic2\", \"Topic2\", \"Topic2\", \"Topic2\", \"Topic2\", \"Topic2\", \"Topic2\", \"Topic2\", \"Topic2\", \"Topic2\", \"Topic2\", \"Topic2\", \"Topic2\", \"Topic2\", \"Topic2\", \"Topic2\", \"Topic2\", \"Topic2\", \"Topic2\", \"Topic2\", \"Topic2\", \"Topic2\", \"Topic2\", \"Topic2\", \"Topic2\", \"Topic2\", \"Topic2\", \"Topic2\", \"Topic2\"], \"logprob\": [30.0, 29.0, 28.0, 27.0, 26.0, 25.0, 24.0, 23.0, 22.0, 21.0, 20.0, 19.0, 18.0, 17.0, 16.0, 15.0, 14.0, 13.0, 12.0, 11.0, 10.0, 9.0, 8.0, 7.0, 6.0, 5.0, 4.0, 3.0, 2.0, 1.0, -3.2151, -3.6672, -3.6673, -3.6674, -4.0037, -4.0037, -4.0037, -4.0037, -4.0037, -4.0037, -4.0037, -4.0038, -4.0039, -4.0039, -4.004, -3.2139, -4.5147, -4.5147, -4.5147, -4.5147, -4.5147, -4.5147, -4.5147, -4.5147, -4.5147, -4.5147, -4.5147, -4.5147, -4.5147, -4.5147, -3.4165, -3.6679, -4.0032, -4.0032, -4.0039, -3.5389, -3.5389, -3.5389, -3.5389, -4.0498, -4.0498, -4.0498, -4.0498, -4.0498, -4.0498, -4.0498, -4.0498, -4.0498, -4.0498, -4.0498, -4.0498, -4.0498, -4.0498, -4.0498, -4.0498, -4.0498, -4.0498, -4.0498, -4.0498, -4.0498, -4.0498, -4.0498, -4.0498, -4.0458, -4.0481, -3.5371, -3.537, -4.0485, -4.0497, -4.0497], \"loglift\": [30.0, 29.0, 28.0, 27.0, 26.0, 25.0, 24.0, 23.0, 22.0, 21.0, 20.0, 19.0, 18.0, 17.0, 16.0, 15.0, 14.0, 13.0, 12.0, 11.0, 10.0, 9.0, 8.0, 7.0, 6.0, 5.0, 4.0, 3.0, 2.0, 1.0, 0.3138, 0.2787, 0.2786, 0.2786, 0.2415, 0.2415, 0.2415, 0.2415, 0.2415, 0.2415, 0.2414, 0.2414, 0.2413, 0.2413, 0.2413, 0.1972, 0.1597, 0.1596, 0.1596, 0.1596, 0.1596, 0.1596, 0.1596, 0.1596, 0.1596, 0.1596, 0.1596, 0.1596, 0.1596, 0.1596, 0.0364, -0.0431, 0.0144, 0.0144, 0.0138, 0.9132, 0.9132, 0.9131, 0.9131, 0.7794, 0.7794, 0.7794, 0.7794, 0.7794, 0.7794, 0.7794, 0.7794, 0.7794, 0.7794, 0.7794, 0.7794, 0.7794, 0.7793, 0.7793, 0.7793, 0.7793, 0.7793, 0.7793, 0.7793, 0.7793, 0.7793, 0.7793, 0.7793, 0.298, 0.2954, 0.0877, -0.0841, -0.0308, -0.0321, -0.0321]}, \"token.table\": {\"Topic\": [2, 1, 1, 1, 1, 1, 2, 2, 2, 2, 2, 1, 1, 2, 1, 1, 2, 2, 2, 2, 1, 1, 2, 1, 2, 1, 2, 1, 2, 1, 2, 1, 2, 1, 1, 1, 1, 2, 1, 2, 1, 2, 2, 2, 1, 2, 1, 1, 2, 2, 1, 1, 2, 1, 1, 2, 1, 2, 2, 2, 2, 2, 1, 1, 1, 1, 1, 2, 2, 2, 1, 2, 1], \"Freq\": [0.9267114079363068, 1.0336135377978426, 1.0336585301975085, 0.7937866536126194, 0.7937858360493615, 0.5703848265404299, 0.5703848265404299, 0.9267084157702856, 0.926709093522279, 0.9267166939501953, 0.9267121641647461, 1.033617271680334, 0.7662410237556916, 0.9267083794982895, 0.793784663971164, 1.0336096907783658, 0.9267142951097984, 0.9267059911411341, 0.9267027014955985, 0.9267105711153173, 0.7937821564672636, 0.5701857302952371, 0.5701857302952371, 0.8976599268462806, 0.22441498171157015, 0.7937870287394491, 0.9267087760995567, 0.8233390275587558, 0.4116695137793779, 1.0336313178217613, 0.9267132821418494, 0.702029480743459, 0.2340098269144863, 0.7937869190751767, 1.0099761843143782, 1.0336129851094205, 1.0336133306993744, 0.9267087945892304, 0.8232321678710648, 0.4116160839355324, 1.0336131309748928, 0.926702847289134, 0.9267112673602357, 0.6355748028329912, 0.8232312429740599, 0.41161562148702996, 0.793785802394035, 0.7662625198635779, 0.9267098815062327, 0.9267133975938355, 0.7937846303159367, 1.033662871973972, 0.9267090624703631, 0.7937834376330564, 0.5558378529710827, 0.27791892648554134, 0.7937865770355556, 0.6355752302437926, 0.635577051498915, 0.9267178792634675, 0.9267110106254626, 0.9267132932895388, 0.7662741074169004, 0.7937860759857178, 1.033667187493722, 1.0336149102304344, 0.7937865770355556, 0.9267113650292674, 0.9267119503365656, 0.9267133546866121, 0.7937857258171351, 0.6355813992341061, 0.7937865857335457], \"Term\": [\"actually\", \"always\", \"bed\", \"bit\", \"blush\", \"changed\", \"changed\", \"coffee\", \"complete\", \"crazy\", \"curl\", \"cute\", \"dance\", \"day\", \"difference\", \"done\", \"ending\", \"entire\", \"eyelashes\", \"fact\", \"favorite\", \"first\", \"first\", \"get\", \"get\", \"gets\", \"getting\", \"going\", \"going\", \"good\", \"kid\", \"let\", \"let\", \"lip\", \"little\", \"look\", \"looks\", \"make\", \"makeup\", \"makeup\", \"mascara\", \"mean\", \"might\", \"morning\", \"much\", \"much\", \"nostrils\", \"okay\", \"old\", \"older\", \"outfit\", \"pants\", \"part\", \"pup\", \"ready\", \"ready\", \"right\", \"routine\", \"school\", \"sephora\", \"shocking\", \"showing\", \"stitch\", \"subtle\", \"teeth\", \"use\", \"vibrant\", \"video\", \"viral\", \"want\", \"whole\", \"years\", \"ysl\"]}, \"R\": 30, \"lambda.step\": 0.01, \"plot.opts\": {\"xlab\": \"PC1\", \"ylab\": \"PC2\"}, \"topic.order\": [2, 1]};\n",
       "\n",
       "function LDAvis_load_lib(url, callback){\n",
       "  var s = document.createElement('script');\n",
       "  s.src = url;\n",
       "  s.async = true;\n",
       "  s.onreadystatechange = s.onload = callback;\n",
       "  s.onerror = function(){console.warn(\"failed to load library \" + url);};\n",
       "  document.getElementsByTagName(\"head\")[0].appendChild(s);\n",
       "}\n",
       "\n",
       "if(typeof(LDAvis) !== \"undefined\"){\n",
       "   // already loaded: just create the visualization\n",
       "   !function(LDAvis){\n",
       "       new LDAvis(\"#\" + \"ldavis_el2348820853428730722893731381\", ldavis_el2348820853428730722893731381_data);\n",
       "   }(LDAvis);\n",
       "}else if(typeof define === \"function\" && define.amd){\n",
       "   // require.js is available: use it to load d3/LDAvis\n",
       "   require.config({paths: {d3: \"https://d3js.org/d3.v5\"}});\n",
       "   require([\"d3\"], function(d3){\n",
       "      window.d3 = d3;\n",
       "      LDAvis_load_lib(\"https://cdn.jsdelivr.net/gh/bmabey/pyLDAvis@3.4.0/pyLDAvis/js/ldavis.v3.0.0.js\", function(){\n",
       "        new LDAvis(\"#\" + \"ldavis_el2348820853428730722893731381\", ldavis_el2348820853428730722893731381_data);\n",
       "      });\n",
       "    });\n",
       "}else{\n",
       "    // require.js not available: dynamically load d3 & LDAvis\n",
       "    LDAvis_load_lib(\"https://d3js.org/d3.v5.js\", function(){\n",
       "         LDAvis_load_lib(\"https://cdn.jsdelivr.net/gh/bmabey/pyLDAvis@3.4.0/pyLDAvis/js/ldavis.v3.0.0.js\", function(){\n",
       "                 new LDAvis(\"#\" + \"ldavis_el2348820853428730722893731381\", ldavis_el2348820853428730722893731381_data);\n",
       "            })\n",
       "         });\n",
       "}\n",
       "</script>"
      ],
      "text/plain": [
       "<IPython.core.display.HTML object>"
      ]
     },
     "execution_count": 5,
     "metadata": {},
     "output_type": "execute_result"
    }
   ],
   "source": [
    "import pyLDAvis.gensim_models as gensimvis\n",
    "import pyLDAvis\n",
    "\n",
    "pyLDAvis.enable_notebook()  # If in Jupyter\n",
    "vis = gensimvis.prepare(lda_model, corpus, dictionary)\n",
    "pyLDAvis.display(vis)  # Display directly in the notebook"
   ]
  }
 ],
 "metadata": {
  "kernelspec": {
   "display_name": "myenv",
   "language": "python",
   "name": "python3"
  },
  "language_info": {
   "codemirror_mode": {
    "name": "ipython",
    "version": 3
   },
   "file_extension": ".py",
   "mimetype": "text/x-python",
   "name": "python",
   "nbconvert_exporter": "python",
   "pygments_lexer": "ipython3",
   "version": "3.13.2"
  }
 },
 "nbformat": 4,
 "nbformat_minor": 5
}
