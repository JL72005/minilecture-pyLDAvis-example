{
 "cells": [
  {
   "cell_type": "markdown",
   "id": "9a0d5383",
   "metadata": {},
   "source": [
    "Create virtual environment\n",
    "python -m venv myenv\n",
    "\n",
    "Activate\n",
    "Windows: myenv\\Scripts\\activate\n",
    "MacOS: source myenv/bin/activate\n",
    "\n",
    "Install packages:\n",
    "pip install -r requirements.txt"
   ]
  },
  {
   "cell_type": "code",
   "execution_count": 1,
   "id": "301b58ec",
   "metadata": {},
   "outputs": [
    {
     "name": "stderr",
     "output_type": "stream",
     "text": [
      "[nltk_data] Downloading package punkt to\n",
      "[nltk_data]     C:\\Users\\jessi\\AppData\\Roaming\\nltk_data...\n",
      "[nltk_data]   Package punkt is already up-to-date!\n",
      "[nltk_data] Downloading package stopwords to\n",
      "[nltk_data]     C:\\Users\\jessi\\AppData\\Roaming\\nltk_data...\n",
      "[nltk_data]   Package stopwords is already up-to-date!\n"
     ]
    },
    {
     "name": "stdout",
     "output_type": "stream",
     "text": [
      "[['sephora', 'kid', 'getting', 'ready', 'school', 'video', 'going', 'viral', 'showing', 'much', 'morning', 'routine', 'changed', 'years', 'mean', 'older', 'years', 'old', 'fact', 'entire', 'makeup', 'routine', 'actually', 'crazy', 'ending', 'might', 'shocking', 'part', 'morning', 'let', 'get', 'ready', 'first', 'day', 'school', 'want', 'curl', 'eyelashes', 'complete', 'let', 'make', 'coffee'], ['hey', 'guys', 'get', 'ready', 'bed', 'let', 'bathroom', 'brush', 'teeth', 'okay', 'finished', 'brushing', 'teeth', 'let', 'get', 'pajamas', 'going', 'wear', 'stitch', 'little', 'pants', 'changed', 'little', 'stitch', 'pants', 'okay', 'got', 'stitch', 'shirts', 'let', 'get', 'bed', 'lights', 'good', 'night'], ['ran', 'friend', 'house', 'get', 'hair', 'done', 'dance', 'gets', 'back', 'let', 'get', 'ready', 'dance', 'outfit', 'okay', 'first', 'pup', 'little', 'bit', 'makeup', 'favorite', 'mascara', 'curved', 'like', 'always', 'nostrils', 'look', 'difference', 'already', 'much', 'mascara', 'ysl', 'lipstick', 'going', 'use', 'blush', 'vibrant', 'always', 'use', 'little', 'much', 'little', 'party', 'makeup', 'looks', 'good', 'looks', 'cute', 'subtle', 'lip', 'balm', 'right', 'whole', 'look', 'done', 'ready', 'dance', 'cuteah', 'ready', 'get', 'ready', 'take', 'water', 'tiger', 'tiger', 'life', 'today', 'one', 'one', 'like', 'one', 'parking', 'doop', 'doop', 'doop', 'doop', 'doop', 'doop', 'done', 'pen', 'brush', 'brush', 'brush', 'brush', 'brush', 'brush', 'brush', 'brush', 'brush', 'brush', 'brush', 'brush', 'brush', 'brush', 'put', 'oops', 'brush', 'cut', 'cut', 'find', 'three', 'biggest', 'guys', 'tear', 'tear', 'tear', 'love', 'poke', 'dots', 'cut', 'poke', 'nice', 'like', 'cut', 'pupri', 'poke', 'holes', 'tafel', 'get', 'love', 'take', 'heatless', 'curl', 'tight', 'look', 'really', 'good', 'okay', 'put', 'water', 'little', 'bum', 'flatten', 'put', 'oil', 'hair', 'better', 'let', 'get', 'ready', 'today', 'hair', 'going', 'put', 'like', 'half', 'half', 'going', 'put', 'like', 'bow', 'black', 'bow', 'back', 'going', 'really', 'cute', 'bow', 'wearing', 'trained', 'train', 'kept', 'interrupting', 'every', 'time', 'would', 'try', 'video', 'like', 'going', 'see', 'get', 'yes', 'stuff', 'said', 'face', 'going', 'curl', 'eyelashes', 'complete', 'going', 'change', 'got', 'changed', 'top', 'bottom', 'hair', 'going', 'audia', 'spy', 'good', 'morning']]\n"
     ]
    }
   ],
   "source": [
    "import nltk\n",
    "from nltk.corpus import stopwords\n",
    "from nltk.tokenize import word_tokenize\n",
    "import string\n",
    "\n",
    "nltk.download('punkt')\n",
    "nltk.download('stopwords')\n",
    "\n",
    "# Your transcripts\n",
    "docs = [\n",
    "    \"this Sephora kid's getting ready for school video is going viral because it's showing how much the morning routine has changed over the years I mean she cannot be older than 8 years old so the fact that she has this entire makeup routine is actually crazy but the ending might be the most shocking part morning it's 5:45 let's go get ready for the first day of school I want to curl my eyelashes all complete let's make some coffee\",\n",
    "    \"hey guys get ready with me for bed so let's go to the bathroom and brush my teeth okay so I just finished brushing my teeth let's go to get my pajamas so I'm going to wear these Stitch little pants I changed it into my little Stitch pants okay I got Stitch shirts so now let's get in bed lights out good night\",\n",
    "    \"AA just ran to her friend's house to get her hair for done for dance when she gets back let's get ready for dance here's her outfit okay so first is this pup now just a little bit of makeup my favorite mascara why is it curved like that always F in my nostrils look at that difference I already have too much mascara on now this YSL lipstick but I'm going to use that as blush this is vibrant that's why I always use just oh that's a little too much a little it's a party doing makeup looks good looks cute and then just this very very subtle lip balm all right so that's your whole look you're done and she's ready for dance such a cute\"\n",
    "    \"Ah! Ready? Get ready for me. I'll take my water. Tiger? Tiger. Where's my life today? This one or this one? I like this one. Parking me. Doop doop doop doop doop doop. All done. Where's my pen? Brush brush brush brush brush brush brush or brush brush brush brush brush brush brush. Here I put these. Oops. Do I do it with the brush? Cut or? Ho ho ho. And up. When, when, when, when, when my cut or I find the three of my biggest. How you guys do? How you doing? Wash. Do I tear? Do I tear? Do I tear? I love to poke dots. Go. Cut. I have no. I poke it. Very nice. I like. Cut. Pupri! You poke holes. Tafel. Oh, what do you go? I'll get there. Love you.\"\n",
    "    \"Let's take out my heatless curl. Tight but they look really good. Okay. Put some water on that little bum to flatten it down and I put some oil in my hair so it's better now. Now let's get ready. So today for my hair I'm going to put it like half a half down and then I'm going to put like a bow, a black bow in the back it's going to be really cute. This is the bow I'm wearing. You're not trained. Oh! Train kept interrupting me every time I would try to video like. I'm going to see if I can get any more out of this. Yes. There's stuff I said the face. I'm going to curl my eyelashes all complete. Now I'm going to go change. I just got changed. That's my top and these are my bottom. Here's my hair. Now I'm going to go. Audia, spy. Good morning.\"\n",
    "]\n",
    "\n",
    "# Tokenize and clean\n",
    "stop_words = set(stopwords.words('english'))\n",
    "cleaned_docs = []\n",
    "\n",
    "for doc in docs:\n",
    "    tokens = word_tokenize(doc.lower())  # lowercase and tokenize\n",
    "    words = [word for word in tokens if word.isalpha() and word not in stop_words and len(word) > 2]\n",
    "    cleaned_docs.append(words)\n",
    "\n",
    "print(cleaned_docs)  # Take a peek at the cleaned result"
   ]
  },
  {
   "cell_type": "code",
   "execution_count": 2,
   "id": "2e175930",
   "metadata": {},
   "outputs": [],
   "source": [
    "from gensim import corpora\n",
    "\n",
    "dictionary = corpora.Dictionary(cleaned_docs)\n",
    "corpus = [dictionary.doc2bow(text) for text in cleaned_docs]"
   ]
  },
  {
   "cell_type": "markdown",
   "id": "deb538a6",
   "metadata": {},
   "source": [
    "## Generate the LDA Model"
   ]
  },
  {
   "cell_type": "markdown",
   "id": "31b3bb02",
   "metadata": {},
   "source": [
    "### **Test multiple models -- will take longer for the example purposes use the single model**"
   ]
  },
  {
   "cell_type": "code",
   "execution_count": null,
   "id": "b3f13ea4",
   "metadata": {},
   "outputs": [],
   "source": [
    "# Example in Python using Gensim\n",
    "from gensim.models import CoherenceModel\n",
    "from gensim.models.ldamodel import LdaModel  # Ensure LdaModel is imported\n",
    "\n",
    "coherence_values = []\n",
    "for k in range(2, 21):\n",
    "    model = LdaModel(corpus=corpus, id2word=dictionary, num_topics=k)\n",
    "    coherence_model = CoherenceModel(model=model, texts=cleaned_docs, dictionary=dictionary, coherence='c_v')\n",
    "    coherence_values.append(coherence_model.get_coherence())\n",
    "\n",
    "# Plot k vs coherence_values and choose the elbow point\n",
    "import matplotlib.pyplot as plt\n",
    "import numpy as np\n",
    "plot(k_values, coherence_values)\n",
    "plt.xlabel(\"Number of Topics\")"
   ]
  },
  {
   "cell_type": "markdown",
   "id": "6760ab15",
   "metadata": {},
   "source": [
    "### **Test single models**"
   ]
  },
  {
   "cell_type": "code",
   "execution_count": 3,
   "id": "c79f40c6",
   "metadata": {},
   "outputs": [],
   "source": [
    "from gensim.models.ldamodel import LdaModel\n",
    "\n",
    "lda_model = LdaModel(\n",
    "    corpus=corpus,\n",
    "    id2word=dictionary,\n",
    "    num_topics=2,  # You can try more topics\n",
    "    random_state=42,\n",
    "    passes=20\n",
    ")"
   ]
  },
  {
   "cell_type": "markdown",
   "id": "800e188f",
   "metadata": {},
   "source": [
    "## Display visualization"
   ]
  },
  {
   "cell_type": "code",
   "execution_count": 4,
   "id": "fcfb7892",
   "metadata": {},
   "outputs": [
    {
     "data": {
      "text/html": [
       "\n",
       "<link rel=\"stylesheet\" type=\"text/css\" href=\"https://cdn.jsdelivr.net/gh/bmabey/pyLDAvis@3.4.0/pyLDAvis/js/ldavis.v1.0.0.css\">\n",
       "\n",
       "\n",
       "<div id=\"ldavis_el1917623623059481123401216423\" style=\"background-color:white;\"></div>\n",
       "<script type=\"text/javascript\">\n",
       "\n",
       "var ldavis_el1917623623059481123401216423_data = {\"mdsDat\": {\"x\": [0.06996223033971719, -0.06996223033971719], \"y\": [0.0, 0.0], \"topics\": [1, 2], \"cluster\": [1, 1], \"Freq\": [71.6042047082578, 28.39579529174221]}, \"tinfo\": {\"Term\": [\"let\", \"stitch\", \"routine\", \"pants\", \"years\", \"school\", \"teeth\", \"bed\", \"morning\", \"changed\", \"get\", \"okay\", \"ready\", \"mean\", \"fact\", \"getting\", \"day\", \"showing\", \"coffee\", \"kid\", \"shocking\", \"part\", \"want\", \"older\", \"entire\", \"ending\", \"actually\", \"sephora\", \"viral\", \"old\", \"like\", \"doop\", \"put\", \"brush\", \"cut\", \"hair\", \"one\", \"dance\", \"look\", \"tear\", \"poke\", \"done\", \"bow\", \"today\", \"tiger\", \"mascara\", \"take\", \"back\", \"looks\", \"cute\", \"use\", \"really\", \"always\", \"love\", \"water\", \"half\", \"going\", \"whole\", \"vibrant\", \"curved\", \"good\", \"little\", \"ready\", \"get\", \"okay\", \"makeup\", \"curl\", \"much\", \"stitch\", \"routine\", \"pants\", \"years\", \"school\", \"teeth\", \"bed\", \"mean\", \"fact\", \"getting\", \"day\", \"showing\", \"coffee\", \"kid\", \"shocking\", \"part\", \"want\", \"older\", \"entire\", \"ending\", \"actually\", \"sephora\", \"viral\", \"old\", \"crazy\", \"might\", \"make\", \"shirts\", \"bathroom\", \"hey\", \"let\", \"morning\", \"changed\", \"get\", \"ready\", \"okay\", \"little\", \"going\", \"first\", \"eyelashes\", \"video\"], \"Freq\": [4.0, 2.0, 1.0, 1.0, 1.0, 1.0, 1.0, 1.0, 2.0, 2.0, 7.0, 3.0, 5.0, 1.0, 1.0, 1.0, 1.0, 1.0, 1.0, 1.0, 1.0, 1.0, 1.0, 1.0, 1.0, 1.0, 1.0, 1.0, 1.0, 1.0, 4.766491808906176, 4.766187568587806, 4.0331327197885845, 11.409231508559854, 3.2997094101320923, 3.299592808594981, 2.5664500601754763, 2.5664493426275556, 2.5664355298300823, 2.5663506797884614, 2.566331485381583, 2.566321798484654, 2.566313726070546, 1.833165237267676, 1.833164160945795, 1.8331535771139649, 1.8331476573436192, 1.8331422757342142, 1.8331291804846617, 1.8331133944304066, 1.8331099860777833, 1.8331062189511997, 1.8330949175714488, 1.833078413969273, 1.8330644217848198, 1.8329973310542356, 6.250127255693395, 1.099866153094952, 1.0998615787269577, 1.0998603230180966, 2.574477627538143, 3.3098619956618682, 4.040781063075169, 4.7784235545052915, 1.8370857397193203, 1.8356325257929524, 1.8355887553697905, 1.835581938664544, 1.8133137728763957, 1.2952202616635016, 1.2951940825914279, 1.2951768670059882, 1.2951570904243672, 1.2951412976145837, 1.2951373138427464, 0.7770936709166014, 0.7770857745117096, 0.7770800834090849, 0.7770786606334287, 0.7770711199224509, 0.7770682032323557, 0.7770670650118308, 0.777066211346437, 0.7770618718806858, 0.7770610893540748, 0.7770598799947671, 0.7770520547286581, 0.7770507742305676, 0.7770490668997801, 0.7770489246222145, 0.7770484977895177, 0.7770482843731692, 0.7770434469359382, 0.7770346968656527, 0.7770207536642222, 0.7769989140578999, 0.776995143702411, 0.7769920847347502, 2.851309854549016, 1.296158866763883, 1.2955477846195542, 2.3244482037997867, 1.8091419100973476, 1.293201200729818, 1.2890852530340573, 1.284589424238097, 0.7771035592074118, 0.7770806525193473, 0.7770632235175592], \"Total\": [4.0, 2.0, 1.0, 1.0, 1.0, 1.0, 1.0, 1.0, 2.0, 2.0, 7.0, 3.0, 5.0, 1.0, 1.0, 1.0, 1.0, 1.0, 1.0, 1.0, 1.0, 1.0, 1.0, 1.0, 1.0, 1.0, 1.0, 1.0, 1.0, 1.0, 5.026376917283331, 5.026287942921741, 4.292935965211422, 12.158063946368724, 3.559475894588913, 3.559441458345946, 2.826063667388041, 2.8260635900891655, 2.826059452166154, 2.8260343764867883, 2.826028858510905, 2.826026036506517, 2.826023655195034, 2.0926443566113404, 2.0926439561078958, 2.0926408062788693, 2.092639101481405, 2.092637472442793, 2.0926337675125715, 2.092629168031913, 2.092628196182601, 2.092626972267503, 2.092623691785514, 2.092618712666153, 2.092614679911293, 2.0925950031794507, 7.534716679931492, 1.359220992985049, 1.3592197265704553, 1.359219324526988, 3.346660943971356, 4.598947248695925, 5.849922973172516, 7.102871758305078, 3.130286940449138, 2.61161024262363, 2.6115971330158585, 2.6115953671641914, 2.1808356514239584, 1.6625202833633372, 1.6625309907390613, 1.6625381269361799, 1.6625463795702107, 1.6625529204394585, 1.6625545873574965, 1.1442184539601823, 1.144221500161081, 1.144223971166054, 1.1442244768004346, 1.1442276544615222, 1.1442288860953433, 1.1442293623576398, 1.144229741977735, 1.1442314343991917, 1.144231817887952, 1.1442322454348384, 1.1442356094316175, 1.1442361228033286, 1.1442368596201462, 1.1442369191529331, 1.144237075327922, 1.1442371534154163, 1.1442390205665691, 1.144242715468033, 1.1442485945279115, 1.1442576094821786, 1.1442591758893497, 1.1442603549390955, 4.683644888872459, 2.3955837278876135, 2.395837649761671, 7.102871758305078, 5.849922973172516, 3.130286940449138, 4.598947248695925, 7.534716679931492, 1.8776677967357005, 1.877677090010577, 1.8776844164120523], \"Category\": [\"Default\", \"Default\", \"Default\", \"Default\", \"Default\", \"Default\", \"Default\", \"Default\", \"Default\", \"Default\", \"Default\", \"Default\", \"Default\", \"Default\", \"Default\", \"Default\", \"Default\", \"Default\", \"Default\", \"Default\", \"Default\", \"Default\", \"Default\", \"Default\", \"Default\", \"Default\", \"Default\", \"Default\", \"Default\", \"Default\", \"Topic1\", \"Topic1\", \"Topic1\", \"Topic1\", \"Topic1\", \"Topic1\", \"Topic1\", \"Topic1\", \"Topic1\", \"Topic1\", \"Topic1\", \"Topic1\", \"Topic1\", \"Topic1\", \"Topic1\", \"Topic1\", \"Topic1\", \"Topic1\", \"Topic1\", \"Topic1\", \"Topic1\", \"Topic1\", \"Topic1\", \"Topic1\", \"Topic1\", \"Topic1\", \"Topic1\", \"Topic1\", \"Topic1\", \"Topic1\", \"Topic1\", \"Topic1\", \"Topic1\", \"Topic1\", \"Topic1\", \"Topic1\", \"Topic1\", \"Topic1\", \"Topic2\", \"Topic2\", \"Topic2\", \"Topic2\", \"Topic2\", \"Topic2\", \"Topic2\", \"Topic2\", \"Topic2\", \"Topic2\", \"Topic2\", \"Topic2\", \"Topic2\", \"Topic2\", \"Topic2\", \"Topic2\", \"Topic2\", \"Topic2\", \"Topic2\", \"Topic2\", \"Topic2\", \"Topic2\", \"Topic2\", \"Topic2\", \"Topic2\", \"Topic2\", \"Topic2\", \"Topic2\", \"Topic2\", \"Topic2\", \"Topic2\", \"Topic2\", \"Topic2\", \"Topic2\", \"Topic2\", \"Topic2\", \"Topic2\", \"Topic2\", \"Topic2\", \"Topic2\", \"Topic2\"], \"logprob\": [30.0, 29.0, 28.0, 27.0, 26.0, 25.0, 24.0, 23.0, 22.0, 21.0, 20.0, 19.0, 18.0, 17.0, 16.0, 15.0, 14.0, 13.0, 12.0, 11.0, 10.0, 9.0, 8.0, 7.0, 6.0, 5.0, 4.0, 3.0, 2.0, 1.0, -3.6991, -3.6991, -3.8662, -2.8263, -4.0669, -4.0669, -4.3182, -4.3182, -4.3182, -4.3182, -4.3182, -4.3182, -4.3182, -4.6547, -4.6547, -4.6547, -4.6547, -4.6547, -4.6547, -4.6547, -4.6547, -4.6547, -4.6547, -4.6547, -4.6547, -4.6547, -3.4281, -5.1655, -5.1655, -5.1655, -4.315, -4.0638, -3.8643, -3.6966, -4.6525, -4.6533, -4.6533, -4.6533, -3.7406, -4.0771, -4.0771, -4.0771, -4.0772, -4.0772, -4.0772, -4.588, -4.588, -4.588, -4.588, -4.588, -4.588, -4.588, -4.588, -4.588, -4.588, -4.588, -4.588, -4.588, -4.588, -4.588, -4.588, -4.588, -4.588, -4.5881, -4.5881, -4.5881, -4.5881, -4.5881, -3.288, -4.0764, -4.0768, -3.4923, -3.7429, -4.0787, -4.0818, -4.0853, -4.588, -4.588, -4.588], \"loglift\": [30.0, 29.0, 28.0, 27.0, 26.0, 25.0, 24.0, 23.0, 22.0, 21.0, 20.0, 19.0, 18.0, 17.0, 16.0, 15.0, 14.0, 13.0, 12.0, 11.0, 10.0, 9.0, 8.0, 7.0, 6.0, 5.0, 4.0, 3.0, 2.0, 1.0, 0.2809, 0.2809, 0.2716, 0.2704, 0.2582, 0.2582, 0.2377, 0.2377, 0.2377, 0.2376, 0.2376, 0.2376, 0.2376, 0.2016, 0.2016, 0.2016, 0.2016, 0.2016, 0.2016, 0.2016, 0.2016, 0.2016, 0.2016, 0.2016, 0.2016, 0.2016, 0.1471, 0.1223, 0.1223, 0.1223, 0.0717, 0.0051, -0.036, -0.0624, -0.1989, -0.0186, -0.0186, -0.0186, 1.0744, 1.0093, 1.0092, 1.0092, 1.0092, 1.0092, 1.0092, 0.872, 0.872, 0.872, 0.872, 0.872, 0.872, 0.872, 0.872, 0.872, 0.872, 0.872, 0.8719, 0.8719, 0.8719, 0.8719, 0.8719, 0.8719, 0.8719, 0.8719, 0.8719, 0.8719, 0.8719, 0.8718, 0.7626, 0.6447, 0.6441, 0.1419, 0.0854, 0.3749, -0.013, -0.5102, 0.3767, 0.3767, 0.3767]}, \"token.table\": {\"Topic\": [2, 1, 1, 2, 2, 1, 1, 2, 1, 2, 2, 2, 1, 2, 1, 1, 1, 1, 2, 1, 1, 2, 2, 1, 2, 2, 1, 2, 1, 2, 2, 1, 2, 1, 2, 1, 1, 2, 2, 1, 2, 1, 1, 2, 1, 1, 1, 2, 1, 2, 1, 2, 2, 1, 2, 1, 2, 1, 2, 2, 2, 1, 2, 2, 1, 1, 1, 2, 1, 2, 2, 2, 2, 2, 2, 2, 1, 1, 2, 1, 1, 1, 1, 1, 2, 2, 2, 1, 1, 2], \"Freq\": [0.8739449280911745, 0.9557380086304559, 0.9557317148035895, 0.8739278837093638, 0.6014840099713199, 1.0615622393978013, 0.9047493127625302, 0.08224993752386639, 0.41739055236045575, 0.41739055236045575, 0.8739510181502922, 0.8739432776072003, 0.76581490104885, 0.382907450524425, 0.7357164380722756, 0.8428207098018492, 0.9557355075390499, 1.061547238540852, 0.8739543859403133, 1.0615613448871641, 0.9947699090819577, 0.8739454908572922, 0.8739458829608838, 0.5325729356341921, 0.5325729356341921, 0.8739566594922593, 0.5325755715353302, 0.5325755715353302, 0.7039406271348935, 0.2815762508539574, 0.8739547721421371, 0.7963139497973206, 0.13271899163288675, 0.8964158754725877, 0.2988052918241959, 0.8428288637718133, 0.9557511114005512, 0.8739269832111121, 0.8739506543858822, 0.4270178562750687, 0.640526784412603, 0.994752300172191, 0.6523232030658056, 0.21744106768860189, 1.0615487928608585, 0.9557334068910293, 0.9557402826871648, 0.8739359652983232, 0.7658110568561698, 0.3829055284280849, 0.9557301922045557, 0.8739589861874392, 0.8739404555361028, 0.41743479401648115, 0.41743479401648115, 0.7658154188608881, 0.38290770943044405, 0.6389190633472844, 0.3194595316736422, 0.8739447036963579, 0.8739484523266285, 1.0615472095052685, 0.6014925469482287, 0.8739490717846568, 1.0615602848375596, 0.9317632576900096, 0.6837696869418316, 0.3418848434709158, 0.9557365103790403, 0.6014964208298047, 0.6014869794240042, 0.8739448826212405, 0.8739290800543937, 0.8739503644360422, 0.8739519588613717, 0.9170796518729492, 0.9557309708034105, 1.061558212087101, 0.6014846130345568, 0.9557287536479908, 0.9557285707346082, 0.9557359513975895, 0.7357162204547838, 0.5325708576262439, 0.5325708576262439, 0.8739447633379772, 0.8739487788810328, 0.9557421245294816, 0.7357155349726119, 0.6014899651311197], \"Term\": [\"actually\", \"always\", \"back\", \"bathroom\", \"bed\", \"bow\", \"brush\", \"brush\", \"changed\", \"changed\", \"coffee\", \"crazy\", \"curl\", \"curl\", \"curved\", \"cut\", \"cute\", \"dance\", \"day\", \"done\", \"doop\", \"ending\", \"entire\", \"eyelashes\", \"eyelashes\", \"fact\", \"first\", \"first\", \"get\", \"get\", \"getting\", \"going\", \"going\", \"good\", \"good\", \"hair\", \"half\", \"hey\", \"kid\", \"let\", \"let\", \"like\", \"little\", \"little\", \"look\", \"looks\", \"love\", \"make\", \"makeup\", \"makeup\", \"mascara\", \"mean\", \"might\", \"morning\", \"morning\", \"much\", \"much\", \"okay\", \"okay\", \"old\", \"older\", \"one\", \"pants\", \"part\", \"poke\", \"put\", \"ready\", \"ready\", \"really\", \"routine\", \"school\", \"sephora\", \"shirts\", \"shocking\", \"showing\", \"stitch\", \"take\", \"tear\", \"teeth\", \"tiger\", \"today\", \"use\", \"vibrant\", \"video\", \"video\", \"viral\", \"want\", \"water\", \"whole\", \"years\"]}, \"R\": 30, \"lambda.step\": 0.01, \"plot.opts\": {\"xlab\": \"PC1\", \"ylab\": \"PC2\"}, \"topic.order\": [1, 2]};\n",
       "\n",
       "function LDAvis_load_lib(url, callback){\n",
       "  var s = document.createElement('script');\n",
       "  s.src = url;\n",
       "  s.async = true;\n",
       "  s.onreadystatechange = s.onload = callback;\n",
       "  s.onerror = function(){console.warn(\"failed to load library \" + url);};\n",
       "  document.getElementsByTagName(\"head\")[0].appendChild(s);\n",
       "}\n",
       "\n",
       "if(typeof(LDAvis) !== \"undefined\"){\n",
       "   // already loaded: just create the visualization\n",
       "   !function(LDAvis){\n",
       "       new LDAvis(\"#\" + \"ldavis_el1917623623059481123401216423\", ldavis_el1917623623059481123401216423_data);\n",
       "   }(LDAvis);\n",
       "}else if(typeof define === \"function\" && define.amd){\n",
       "   // require.js is available: use it to load d3/LDAvis\n",
       "   require.config({paths: {d3: \"https://d3js.org/d3.v5\"}});\n",
       "   require([\"d3\"], function(d3){\n",
       "      window.d3 = d3;\n",
       "      LDAvis_load_lib(\"https://cdn.jsdelivr.net/gh/bmabey/pyLDAvis@3.4.0/pyLDAvis/js/ldavis.v3.0.0.js\", function(){\n",
       "        new LDAvis(\"#\" + \"ldavis_el1917623623059481123401216423\", ldavis_el1917623623059481123401216423_data);\n",
       "      });\n",
       "    });\n",
       "}else{\n",
       "    // require.js not available: dynamically load d3 & LDAvis\n",
       "    LDAvis_load_lib(\"https://d3js.org/d3.v5.js\", function(){\n",
       "         LDAvis_load_lib(\"https://cdn.jsdelivr.net/gh/bmabey/pyLDAvis@3.4.0/pyLDAvis/js/ldavis.v3.0.0.js\", function(){\n",
       "                 new LDAvis(\"#\" + \"ldavis_el1917623623059481123401216423\", ldavis_el1917623623059481123401216423_data);\n",
       "            })\n",
       "         });\n",
       "}\n",
       "</script>"
      ],
      "text/plain": [
       "<IPython.core.display.HTML object>"
      ]
     },
     "execution_count": 4,
     "metadata": {},
     "output_type": "execute_result"
    }
   ],
   "source": [
    "import pyLDAvis.gensim_models as gensimvis\n",
    "import pyLDAvis\n",
    "\n",
    "pyLDAvis.enable_notebook()  # If in Jupyter\n",
    "vis = gensimvis.prepare(lda_model, corpus, dictionary)\n",
    "pyLDAvis.display(vis)  # Display directly in the notebook\n",
    "# If not in Jupyter, you can save it to HTML\n",
    "#pyLDAvis.save_html(vis, 'lda_visualization.html')  # Save to HTML file\n",
    "#print(\"saved\")"
   ]
  },
  {
   "cell_type": "markdown",
   "id": "75e824d8",
   "metadata": {},
   "source": [
    "### Saves output to csv file"
   ]
  },
  {
   "cell_type": "code",
   "execution_count": 8,
   "id": "80e3eeb8",
   "metadata": {},
   "outputs": [],
   "source": [
    "# Generate and save the visualization\n",
    "import pyLDAvis.gensim_models as gensimvis  # Ensure gensimvis is imported\n",
    "viz_data = gensimvis.prepare(lda_model, corpus, dictionary)\n",
    "pyLDAvis.save_json(viz_data, 'file.json')  # Save the visualization to a JSON file\n",
    "\n",
    "# Load the saved visualization\n",
    "filename = 'file.json'\n",
    "import json  # Use the standard library's json module\n",
    "\n",
    "with open(filename, 'r') as f:\n",
    "    viz_data_dict = json.load(f)  # Load the saved visualization\n",
    "#viz_data = pyLDAvis._prepare.PreparedData.from_dict(viz_data_dict)  # Convert back to PreparedData\n",
    "pyLDAvis.display(viz_data)  # Display in notebook\n",
    "\n",
    "\n",
    "#Saving the top n topics:\n",
    "\n",
    "top_n = 2  # change this as needed\n",
    "topics = lda_model.show_topics(num_topics=-1, num_words=top_n, formatted=False)\n",
    "\n",
    "# Convert to a list of dictionaries\n",
    "topic_word_list = []\n",
    "for topic_num, words in topics:\n",
    "    for word, prob in words:\n",
    "        topic_word_list.append({\n",
    "            \"Topic\": topic_num,\n",
    "            \"Word\": word,\n",
    "            \"Probability\": prob\n",
    "        })\n",
    "#Save to csv\n",
    "import pandas as pd\n",
    "df_topics = pd.DataFrame(topic_word_list)\n",
    "df_topics.to_csv(\"gensim_topics.csv\", index=False)"
   ]
  }
 ],
 "metadata": {
  "kernelspec": {
   "display_name": "Python 3",
   "language": "python",
   "name": "python3"
  },
  "language_info": {
   "codemirror_mode": {
    "name": "ipython",
    "version": 3
   },
   "file_extension": ".py",
   "mimetype": "text/x-python",
   "name": "python",
   "nbconvert_exporter": "python",
   "pygments_lexer": "ipython3",
   "version": "3.11.9"
  }
 },
 "nbformat": 4,
 "nbformat_minor": 5
}
