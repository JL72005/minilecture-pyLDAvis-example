{
 "cells": [
  {
   "cell_type": "markdown",
   "id": "9a0d5383",
   "metadata": {},
   "source": [
    "Create virtual environment\n",
    "python -m venv myenv\n",
    "\n",
    "Activate\n",
    "Windows: myenv\\Scripts\\activate\n",
    "MacOS: source myenv/bin/activate\n",
    "\n",
    "Install packages:\n",
    "pip install -r requirements.txt"
   ]
  },
  {
   "cell_type": "code",
   "execution_count": null,
   "id": "301b58ec",
   "metadata": {},
   "outputs": [
    {
     "name": "stdout",
     "output_type": "stream",
     "text": [
      "[['sephora', 'kid', 'getting', 'ready', 'school', 'video', 'going', 'viral', 'showing', 'much', 'morning', 'routine', 'changed', 'years', 'mean', 'older', 'years', 'old', 'fact', 'entire', 'makeup', 'routine', 'actually', 'crazy', 'ending', 'might', 'shocking', 'part', 'morning', 'let', 'get', 'ready', 'first', 'day', 'school', 'want', 'curl', 'eyelashes', 'complete', 'let', 'make', 'coffee'], ['hey', 'guys', 'get', 'ready', 'bed', 'let', 'bathroom', 'brush', 'teeth', 'okay', 'finished', 'brushing', 'teeth', 'let', 'get', 'pajamas', 'going', 'wear', 'stitch', 'little', 'pants', 'changed', 'little', 'stitch', 'pants', 'okay', 'got', 'stitch', 'shirts', 'let', 'get', 'bed', 'lights', 'good', 'night'], ['ran', 'friend', 'house', 'get', 'hair', 'done', 'dance', 'gets', 'back', 'let', 'get', 'ready', 'dance', 'outfit', 'okay', 'first', 'pup', 'little', 'bit', 'makeup', 'favorite', 'mascara', 'curved', 'like', 'always', 'nostrils', 'look', 'difference', 'already', 'much', 'mascara', 'ysl', 'lipstick', 'going', 'use', 'blush', 'vibrant', 'always', 'use', 'little', 'much', 'little', 'party', 'makeup', 'looks', 'good', 'looks', 'cute', 'subtle', 'lip', 'balm', 'right', 'whole', 'look', 'done', 'ready', 'dance', 'cuteah', 'ready', 'get', 'ready', 'take', 'water', 'tiger', 'tiger', 'life', 'today', 'one', 'one', 'like', 'one', 'parking', 'doop', 'doop', 'doop', 'doop', 'doop', 'doop', 'done', 'pen', 'brush', 'brush', 'brush', 'brush', 'brush', 'brush', 'brush', 'brush', 'brush', 'brush', 'brush', 'brush', 'brush', 'brush', 'put', 'oops', 'brush', 'cut', 'cut', 'find', 'three', 'biggest', 'guys', 'tear', 'tear', 'tear', 'love', 'poke', 'dots', 'cut', 'poke', 'nice', 'like', 'cut', 'pupri', 'poke', 'holes', 'tafel', 'get', 'love', 'let', 'take', 'heatless', 'curl', 'tight', 'look', 'really', 'good', 'okay', 'put', 'water', 'little', 'bum', 'flatten', 'put', 'oil', 'hair', 'better', 'let', 'get', 'ready', 'today', 'hair', 'going', 'put', 'like', 'half', 'half', 'going', 'put', 'like', 'bow', 'black', 'bow', 'back', 'going', 'really', 'cute', 'bow', 'wearing', 'trained', 'train', 'kept', 'interrupting', 'every', 'time', 'would', 'try', 'video', 'like', 'going', 'see', 'get', 'yes', 'stuff', 'said', 'face', 'going', 'curl', 'eyelashes', 'complete', 'going', 'change', 'got', 'changed', 'top', 'bottom', 'hair', 'going', 'audia', 'spy', 'good', 'morning']]\n"
     ]
    },
    {
     "name": "stderr",
     "output_type": "stream",
     "text": [
      "[nltk_data] Downloading package punkt to\n",
      "[nltk_data]     C:\\Users\\jessi\\AppData\\Roaming\\nltk_data...\n",
      "[nltk_data]   Package punkt is already up-to-date!\n",
      "[nltk_data] Downloading package stopwords to\n",
      "[nltk_data]     C:\\Users\\jessi\\AppData\\Roaming\\nltk_data...\n",
      "[nltk_data]   Package stopwords is already up-to-date!\n"
     ]
    }
   ],
   "source": [
    "import nltk\n",
    "from nltk.corpus import stopwords\n",
    "from nltk.tokenize import word_tokenize\n",
    "import string\n",
    "\n",
    "nltk.download('punkt')\n",
    "nltk.download('stopwords')\n",
    "\n",
    "# Your transcripts\n",
    "docs = [\n",
    "    \"this Sephora kid's getting ready for school video is going viral because it's showing how much the morning routine has changed over the years I mean she cannot be older than 8 years old so the fact that she has this entire makeup routine is actually crazy but the ending might be the most shocking part morning it's 5:45 let's go get ready for the first day of school I want to curl my eyelashes all complete let's make some coffee\",\n",
    "    \"hey guys get ready with me for bed so let's go to the bathroom and brush my teeth okay so I just finished brushing my teeth let's go to get my pajamas so I'm going to wear these Stitch little pants I changed it into my little Stitch pants okay I got Stitch shirts so now let's get in bed lights out good night\",\n",
    "    \"AA just ran to her friend's house to get her hair for done for dance when she gets back let's get ready for dance here's her outfit okay so first is this pup now just a little bit of makeup my favorite mascara why is it curved like that always F in my nostrils look at that difference I already have too much mascara on now this YSL lipstick but I'm going to use that as blush this is vibrant that's why I always use just oh that's a little too much a little it's a party doing makeup looks good looks cute and then just this very very subtle lip balm all right so that's your whole look you're done and she's ready for dance such a cute\"\n",
    "    \"Ah! Ready? Get ready for me. I'll take my water. Tiger? Tiger. Where's my life today? This one or this one? I like this one. Parking me. Doop doop doop doop doop doop. All done. Where's my pen? Brush brush brush brush brush brush brush or brush brush brush brush brush brush brush. Here I put these. Oops. Do I do it with the brush? Cut or? Ho ho ho. And up. When, when, when, when, when my cut or I find the three of my biggest. How you guys do? How you doing? Wash. Do I tear? Do I tear? Do I tear? I love to poke dots. Go. Cut. I have no. I poke it. Very nice. I like. Cut. Pupri! You poke holes. Tafel. Oh, what do you go? I'll get there. Love you.\"\n",
    "    \"Let's take out my heatless curl. Tight but they look really good. Okay. Put some water on that little bum to flatten it down and I put some oil in my hair so it's better now. Now let's get ready. So today for my hair I'm going to put it like half a half down and then I'm going to put like a bow, a black bow in the back it's going to be really cute. This is the bow I'm wearing. You're not trained. Oh! Train kept interrupting me every time I would try to video like. I'm going to see if I can get any more out of this. Yes. There's stuff I said the face. I'm going to curl my eyelashes all complete. Now I'm going to go change. I just got changed. That's my top and these are my bottom. Here's my hair. Now I'm going to go. Audia, spy. Good morning.\"\n",
    "]\n",
    "\n",
    "# Tokenize and clean\n",
    "stop_words = set(stopwords.words('english'))\n",
    "cleaned_docs = []\n",
    "\n",
    "for doc in docs:\n",
    "    tokens = word_tokenize(doc.lower())  # lowercase and tokenize\n",
    "    words = [word for word in tokens if word.isalpha() and word not in stop_words and len(word) > 2]\n",
    "    cleaned_docs.append(words)\n",
    "\n",
    "print(cleaned_docs)  # Take a peek at the cleaned result"
   ]
  },
  {
   "cell_type": "code",
   "execution_count": 12,
   "id": "2e175930",
   "metadata": {},
   "outputs": [],
   "source": [
    "from gensim import corpora\n",
    "\n",
    "dictionary = corpora.Dictionary(cleaned_docs)\n",
    "corpus = [dictionary.doc2bow(text) for text in cleaned_docs]"
   ]
  },
  {
   "cell_type": "markdown",
   "id": "deb538a6",
   "metadata": {},
   "source": [
    "## Generate the LDA Model"
   ]
  },
  {
   "cell_type": "code",
   "execution_count": null,
   "id": "b3f13ea4",
   "metadata": {},
   "outputs": [],
   "source": [
    "# Example in Python using Gensim\n",
    "from gensim.models import CoherenceModel\n",
    "from gensim.models.ldamodel import LdaModel  # Ensure LdaModel is imported\n",
    "\n",
    "coherence_values = []\n",
    "for k in range(2, 21):\n",
    "    model = LdaModel(corpus=corpus, id2word=dictionary, num_topics=k)\n",
    "    coherence_model = CoherenceModel(model=model, texts=cleaned_docs, dictionary=dictionary, coherence='c_v')\n",
    "    coherence_values.append(coherence_model.get_coherence())\n",
    "\n",
    "# Plot k vs coherence_values and choose the elbow point\n",
    "import matplotlib.pyplot as plt\n",
    "import numpy as np\n",
    "plot(k_values, coherence_values)\n",
    "plt.xlabel(\"Number of Topics\")"
   ]
  },
  {
   "cell_type": "code",
   "execution_count": 16,
   "id": "c79f40c6",
   "metadata": {},
   "outputs": [],
   "source": [
    "from gensim.models.ldamodel import LdaModel\n",
    "\n",
    "lda_model = LdaModel(\n",
    "    corpus=corpus,\n",
    "    id2word=dictionary,\n",
    "    num_topics=2,  # You can try more topics\n",
    "    random_state=42,\n",
    "    passes=20\n",
    ")"
   ]
  },
  {
   "cell_type": "markdown",
   "id": "800e188f",
   "metadata": {},
   "source": [
    "## Display visualization"
   ]
  },
  {
   "cell_type": "code",
   "execution_count": 21,
   "id": "fcfb7892",
   "metadata": {},
   "outputs": [
    {
     "name": "stdout",
     "output_type": "stream",
     "text": [
      "saved\n"
     ]
    }
   ],
   "source": [
    "import pyLDAvis.gensim_models as gensimvis\n",
    "import pyLDAvis\n",
    "\n",
    "pyLDAvis.enable_notebook()  # If in Jupyter\n",
    "vis = gensimvis.prepare(lda_model, corpus, dictionary)\n",
    "pyLDAvis.display(vis)  # Display directly in the notebook\n",
    "# If not in Jupyter, you can save it to HTML\n",
    "#pyLDAvis.save_html(vis, 'lda_visualization.html')  # Save to HTML file\n",
    "print(\"saved\")"
   ]
  }
 ],
 "metadata": {
  "kernelspec": {
   "display_name": "Python 3",
   "language": "python",
   "name": "python3"
  },
  "language_info": {
   "codemirror_mode": {
    "name": "ipython",
    "version": 3
   },
   "file_extension": ".py",
   "mimetype": "text/x-python",
   "name": "python",
   "nbconvert_exporter": "python",
   "pygments_lexer": "ipython3",
   "version": "3.11.9"
  }
 },
 "nbformat": 4,
 "nbformat_minor": 5
}
